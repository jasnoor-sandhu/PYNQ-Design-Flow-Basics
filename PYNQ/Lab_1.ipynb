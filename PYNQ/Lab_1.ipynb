{
 "cells": [
  {
   "cell_type": "code",
   "execution_count": 1,
   "id": "53be0402",
   "metadata": {},
   "outputs": [],
   "source": [
    "from pynq import Overlay"
   ]
  },
  {
   "cell_type": "code",
   "execution_count": 2,
   "id": "0611148f",
   "metadata": {},
   "outputs": [
    {
     "data": {
      "application/javascript": [
       "\n",
       "try {\n",
       "require(['notebook/js/codecell'], function(codecell) {\n",
       "  codecell.CodeCell.options_default.highlight_modes[\n",
       "      'magic_text/x-csrc'] = {'reg':[/^%%microblaze/]};\n",
       "  Jupyter.notebook.events.one('kernel_ready.Kernel', function(){\n",
       "      Jupyter.notebook.get_cells().map(function(cell){\n",
       "          if (cell.cell_type == 'code'){ cell.auto_highlight(); } }) ;\n",
       "  });\n",
       "});\n",
       "} catch (e) {};\n"
      ]
     },
     "metadata": {},
     "output_type": "display_data"
    },
    {
     "data": {
      "application/javascript": [
       "\n",
       "try {\n",
       "require(['notebook/js/codecell'], function(codecell) {\n",
       "  codecell.CodeCell.options_default.highlight_modes[\n",
       "      'magic_text/x-csrc'] = {'reg':[/^%%pybind11/]};\n",
       "  Jupyter.notebook.events.one('kernel_ready.Kernel', function(){\n",
       "      Jupyter.notebook.get_cells().map(function(cell){\n",
       "          if (cell.cell_type == 'code'){ cell.auto_highlight(); } }) ;\n",
       "  });\n",
       "});\n",
       "} catch (e) {};\n"
      ]
     },
     "metadata": {},
     "output_type": "display_data"
    }
   ],
   "source": [
    "overlay = Overlay(\"./lab1.bit\")"
   ]
  },
  {
   "cell_type": "code",
   "execution_count": 4,
   "id": "b2ed9d28",
   "metadata": {},
   "outputs": [],
   "source": [
    "overlay?"
   ]
  },
  {
   "cell_type": "code",
   "execution_count": 5,
   "id": "fab30793",
   "metadata": {},
   "outputs": [],
   "source": [
    "top_func = overlay.lab_1_0"
   ]
  },
  {
   "cell_type": "code",
   "execution_count": 9,
   "id": "fd923eb6",
   "metadata": {},
   "outputs": [
    {
     "data": {
      "text/plain": [
       "RegisterMap {\n",
       "  A_V = Register(A_V=write-only),\n",
       "  B_V = Register(B_V=write-only),\n",
       "  C_V = Register(C_V=write-only),\n",
       "  Y_V = Register(Y_V=19913),\n",
       "  Y_V_ctrl = Register(Y_V_ap_vld=1, RESERVED=0)\n",
       "}"
      ]
     },
     "execution_count": 9,
     "metadata": {},
     "output_type": "execute_result"
    }
   ],
   "source": [
    "top_func.register_map"
   ]
  },
  {
   "cell_type": "code",
   "execution_count": 7,
   "id": "50bea7f4",
   "metadata": {},
   "outputs": [],
   "source": [
    "a = 1979\n",
    "b = 9023\n",
    "c = 112"
   ]
  },
  {
   "cell_type": "code",
   "execution_count": 10,
   "id": "bc0d169d",
   "metadata": {},
   "outputs": [],
   "source": [
    "top_func.register_map.A_V = a\n",
    "top_func.register_map.B_V = b\n",
    "top_func.register_map.C_V = c"
   ]
  },
  {
   "cell_type": "code",
   "execution_count": 11,
   "id": "28faf8ea",
   "metadata": {},
   "outputs": [
    {
     "data": {
      "text/plain": [
       "RegisterMap {\n",
       "  A_V = Register(A_V=write-only),\n",
       "  B_V = Register(B_V=write-only),\n",
       "  C_V = Register(C_V=write-only),\n",
       "  Y_V = Register(Y_V=19913),\n",
       "  Y_V_ctrl = Register(Y_V_ap_vld=1, RESERVED=0)\n",
       "}"
      ]
     },
     "execution_count": 11,
     "metadata": {},
     "output_type": "execute_result"
    }
   ],
   "source": [
    "top_func.register_map"
   ]
  },
  {
   "cell_type": "code",
   "execution_count": 12,
   "id": "b625bf9c",
   "metadata": {},
   "outputs": [
    {
     "name": "stdout",
     "output_type": "stream",
     "text": [
      "19913\n"
     ]
    }
   ],
   "source": [
    "print(a+2*b-c)"
   ]
  },
  {
   "cell_type": "code",
   "execution_count": 14,
   "id": "aed6cef3",
   "metadata": {},
   "outputs": [
    {
     "data": {
      "text/plain": [
       "19913"
      ]
     },
     "execution_count": 14,
     "metadata": {},
     "output_type": "execute_result"
    }
   ],
   "source": [
    "val = int(top_func.register_map.Y_V)\n",
    "val"
   ]
  },
  {
   "cell_type": "code",
   "execution_count": 34,
   "id": "e6b3b1b3",
   "metadata": {
    "scrolled": true
   },
   "outputs": [
    {
     "name": "stdout",
     "output_type": "stream",
     "text": [
      "Error!\n",
      "\t Iteration 2\n",
      "\t Required Value = -270 & Recieved Output = 4294967026\n",
      "\t Recieved Output = 0b11111111111111111111111011110010is 2's compliment of -270\n",
      "Completed !!\n"
     ]
    }
   ],
   "source": [
    "# testing IP\n",
    "\n",
    "import random\n",
    "\n",
    "for i in range (10):\n",
    "    val_A = random.randint(0,999)\n",
    "    val_B = random.randint(0,999)\n",
    "    val_C = random.randint(0,999)\n",
    "    \n",
    "    top_func.register_map.A_V = val_A\n",
    "    top_func.register_map.B_V = val_B\n",
    "    top_func.register_map.C_V = val_C\n",
    "    \n",
    "    ground_truth = val_A + 2* val_B - val_C\n",
    "    output = int(top_func.register_map.Y_V)\n",
    "    \n",
    "    if (ground_truth != output):\n",
    "        print(\"Error!\")\n",
    "        print(\"\\t Iteration \" + str(i) )\n",
    "        print(\"\\t Required Value = \" + str(ground_truth) +\" & Recieved Output = \" + str(output))\n",
    "        #Note that the errors may occur due to -ve values. It may be verified by viewing the binary output\n",
    "        print(\"\\t Recieved Output = \" + str(bin(output)) + \"  is 2's compliment of \" + str(ground_truth))\n",
    "\n",
    "print(\"Completed !!\")\n"
   ]
  }
 ],
 "metadata": {
  "kernelspec": {
   "display_name": "Python 3 (ipykernel)",
   "language": "python",
   "name": "python3"
  },
  "language_info": {
   "codemirror_mode": {
    "name": "ipython",
    "version": 3
   },
   "file_extension": ".py",
   "mimetype": "text/x-python",
   "name": "python",
   "nbconvert_exporter": "python",
   "pygments_lexer": "ipython3",
   "version": "3.10.4"
  }
 },
 "nbformat": 4,
 "nbformat_minor": 5
}
